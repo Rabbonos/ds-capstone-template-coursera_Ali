{
 "cells": [
  {
   "cell_type": "code",
   "execution_count": 11,
   "id": "5b39d18d-25ac-48ca-b7eb-23bcf1b3bb62",
   "metadata": {},
   "outputs": [
    {
     "data": {
      "text/html": [
       "\n",
       "        <iframe\n",
       "            width=\"100%\"\n",
       "            height=\"650\"\n",
       "            src=\"http://127.0.0.1:8051/\"\n",
       "            frameborder=\"0\"\n",
       "            allowfullscreen\n",
       "            \n",
       "        ></iframe>\n",
       "        "
      ],
      "text/plain": [
       "<IPython.lib.display.IFrame at 0x1623cb3c7d0>"
      ]
     },
     "metadata": {},
     "output_type": "display_data"
    }
   ],
   "source": [
    "import pandas as pd \n",
    "import plotly.express as px\n",
    "import dash\n",
    "from dash import dcc\n",
    "from dash import html\n",
    "\n",
    "\n",
    "airline_data =  pd.read_csv('https://cf-courses-data.s3.us.cloud-object-storage.appdomain.cloud/IBMDeveloperSkillsNetwork-DV0101EN-SkillsNetwork/Data%20Files/airline_data.csv', \n",
    "                            encoding = \"ISO-8859-1\",\n",
    "                            dtype={'Div1Airport': str, 'Div1TailNum': str, \n",
    "                                   'Div2Airport': str, 'Div2TailNum': str})\n",
    "\n",
    "data = airline_data.sample(n=500, random_state=42)\n",
    "\n",
    "fig = px.pie(data, values='Flights', names='DistanceGroup', title='Distance group proportion by flights')\n",
    "app = dash.Dash(__name__)\n",
    "\n",
    "\n",
    "app.layout = html.Div(children=[html.H1('Airline Dashboard',\n",
    "                      style={'textAlign': 'center',\n",
    "                         'color': '#503D36', \n",
    "                         'font-size': 40}),\n",
    "                        html.P( 'Proportion of distance group (250 mile distance interval group) by flights.',\n",
    "                                 style={'textAlign':'center', \n",
    "                                 'color': '#F57241'}),\n",
    "                        dcc.Graph(figure=fig),])\n",
    "                 \n",
    "\n",
    "if __name__ == '__main__':\n",
    "    app.run_server(port=8051)"
   ]
  },
  {
   "cell_type": "code",
   "execution_count": 5,
   "id": "c5efc269-d4bd-4068-9b38-ea3f6b53a1ee",
   "metadata": {},
   "outputs": [
    {
     "name": "stderr",
     "output_type": "stream",
     "text": [
      "JupyterLab v4.0.11\n",
      "C:\\Users\\Ali\\anaconda3\\envs\\ML\\share\\jupyter\\labextensions\n",
      "        jupyterlab-plotly v5.19.0 enabled  X\n",
      "        @jupyter-notebook/lab-extension v7.0.8 enabled ok\n",
      "        @jupyterhub/jupyter-server-proxy v4.1.2 enabled ok\n",
      "\n",
      "\n",
      "   The following extensions are outdated:\n",
      "        jupyterlab-plotly\n",
      "        \n",
      "   Consider checking if an update is available for these packages.\n",
      "\n",
      "Other labextensions (built into JupyterLab)\n",
      "   app dir: C:\\Users\\Ali\\anaconda3\\envs\\ML\\share\\jupyter\\lab\n",
      "        @plotly/dash-jupyterlab v0.4.3 enabled  X\n",
      "\n",
      "   The following extensions are outdated:\n",
      "        @plotly/dash-jupyterlab\n",
      "        \n",
      "   Consider checking if an update is available for these packages.\n",
      "\n",
      "\n"
     ]
    }
   ],
   "source": []
  },
  {
   "cell_type": "code",
   "execution_count": null,
   "id": "de9ba9a9-a959-48d1-ab3f-902efac87906",
   "metadata": {},
   "outputs": [],
   "source": []
  },
  {
   "cell_type": "code",
   "execution_count": null,
   "id": "ef708ae6-a195-4918-a50b-4bf05e300e8b",
   "metadata": {},
   "outputs": [],
   "source": []
  }
 ],
 "metadata": {
  "kernelspec": {
   "display_name": "Python 3 (ipykernel)",
   "language": "python",
   "name": "python3"
  },
  "language_info": {
   "codemirror_mode": {
    "name": "ipython",
    "version": 3
   },
   "file_extension": ".py",
   "mimetype": "text/x-python",
   "name": "python",
   "nbconvert_exporter": "python",
   "pygments_lexer": "ipython3",
   "version": "3.11.7"
  }
 },
 "nbformat": 4,
 "nbformat_minor": 5
}
