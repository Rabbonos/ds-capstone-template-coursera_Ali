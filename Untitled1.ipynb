{
 "cells": [
  {
   "cell_type": "code",
   "execution_count": 89,
   "id": "6bb52517-c6a8-481f-8d15-c39838730d06",
   "metadata": {},
   "outputs": [],
   "source": [
    "# def dekor(func):\n",
    "#     def wrapper(*args,**kwargs):\n",
    "#         print('before summation')\n",
    "#         result=func(*args,**kwargs)\n",
    "#         print(\"after summation\")\n",
    "#         return result\n",
    "#     return wrapper\n",
    "    \n",
    "def lin(func):\n",
    "    def wrapper(*args,**kwargs):        \n",
    "        print('before summation')\n",
    "        result=func(*args,**kwargs)\n",
    "        print(\"after summation\")\n",
    "\n",
    "        return result\n",
    "\n",
    "    return wrapper\n",
    "    \n",
    "\n",
    "\n",
    "    \n",
    "    \n",
    "    "
   ]
  },
  {
   "cell_type": "code",
   "execution_count": 99,
   "id": "2dc8b170-72fd-4ea5-81c6-e471c2588d5c",
   "metadata": {},
   "outputs": [],
   "source": [
    "@lin\n",
    "def summator(a,b):\n",
    "    print('summing')\n",
    "    return a+b\n",
    "    "
   ]
  },
  {
   "cell_type": "code",
   "execution_count": 100,
   "id": "2af94043-29c1-430c-8898-4398844be377",
   "metadata": {},
   "outputs": [
    {
     "name": "stdout",
     "output_type": "stream",
     "text": [
      "before summation\n",
      "summing\n",
      "after summation\n"
     ]
    },
    {
     "data": {
      "text/plain": [
       "7"
      ]
     },
     "execution_count": 100,
     "metadata": {},
     "output_type": "execute_result"
    }
   ],
   "source": [
    "\n",
    "summator(3,4)"
   ]
  },
  {
   "cell_type": "code",
   "execution_count": 101,
   "id": "99d3ad5a-c8b7-480a-b938-a668a64c4aa4",
   "metadata": {},
   "outputs": [],
   "source": [
    "# @dekor\n",
    "# def mator(a,b):\n",
    "#     return a+b\n",
    "\n",
    "# mator(5,6)"
   ]
  },
  {
   "cell_type": "code",
   "execution_count": null,
   "id": "e6c87396-eee5-4139-a460-c49704638288",
   "metadata": {},
   "outputs": [],
   "source": []
  }
 ],
 "metadata": {
  "kernelspec": {
   "display_name": "Python 3 (ipykernel)",
   "language": "python",
   "name": "python3"
  },
  "language_info": {
   "codemirror_mode": {
    "name": "ipython",
    "version": 3
   },
   "file_extension": ".py",
   "mimetype": "text/x-python",
   "name": "python",
   "nbconvert_exporter": "python",
   "pygments_lexer": "ipython3",
   "version": "3.11.7"
  }
 },
 "nbformat": 4,
 "nbformat_minor": 5
}
