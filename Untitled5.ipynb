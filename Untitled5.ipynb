{
 "cells": [
  {
   "cell_type": "code",
   "execution_count": 1,
   "id": "0b9d8b48-5314-42a6-b7a7-59b2c7617c77",
   "metadata": {},
   "outputs": [],
   "source": [
    "import torch\n",
    "import torch.nn as nn\n",
    "import torch.nn.functional as F\n",
    "from torch.optim import SGD\n",
    "\n",
    "import matplotlib.pyplot as plt\n",
    "import seaborn as sns\n"
   ]
  },
  {
   "cell_type": "code",
   "execution_count": null,
   "id": "6378d2ea-a8d9-4913-97fc-749b90d7e103",
   "metadata": {},
   "outputs": [],
   "source": [
    "class BasicNN(nn.Module):\n",
    "    def __init__(self):\n",
    "        super().__init__()\n",
    "        self.w00=nn.Parameter(torch.tensor(1.7), requires_grad=False)\n",
    "        self.b00=nn.Parameter(torch.tensor(-0.85), requires_grad=False)\n",
    "        self.w01=nn.Parameter(torch.tensor(-40.8), requires_grad=False)\n",
    "        self.w10=nn.Parameter(torch.tensor(12.6), requires_grad=False)\n",
    "        self.b10=nn.Parameter(torch.tensor(0.0), requires_grad=False)\n",
    "        self.w11=nn.Parameter(torch.tensor(2.7), requires_grad=False)\n",
    "        self.final_bias=nn.Parameter(torch.tensor(-16.), requires_grad=False)\n",
    "        def forward (self, input):\n",
    "            input_to_top_relu=input*self.w00 + self.b00\n",
    "            top_"
   ]
  },
  {
   "cell_type": "code",
   "execution_count": null,
   "id": "8483fb1a-718f-41e5-8486-7c032a2a3c6a",
   "metadata": {},
   "outputs": [],
   "source": []
  },
  {
   "cell_type": "code",
   "execution_count": null,
   "id": "1dce8547-18b4-45ff-b21b-b1db6a136efd",
   "metadata": {},
   "outputs": [],
   "source": []
  },
  {
   "cell_type": "code",
   "execution_count": null,
   "id": "c58d8e0a-6122-4e07-99f4-ee27c0620e2a",
   "metadata": {},
   "outputs": [],
   "source": []
  }
 ],
 "metadata": {
  "kernelspec": {
   "display_name": "Python 3 (ipykernel)",
   "language": "python",
   "name": "python3"
  },
  "language_info": {
   "codemirror_mode": {
    "name": "ipython",
    "version": 3
   },
   "file_extension": ".py",
   "mimetype": "text/x-python",
   "name": "python",
   "nbconvert_exporter": "python",
   "pygments_lexer": "ipython3",
   "version": "3.11.7"
  }
 },
 "nbformat": 4,
 "nbformat_minor": 5
}
