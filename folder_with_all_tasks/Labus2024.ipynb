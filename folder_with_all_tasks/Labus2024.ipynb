{
 "cells": [
  {
   "cell_type": "code",
   "execution_count": 2,
   "id": "58d1cb5b-7a17-4f07-bad6-a332dcd329a8",
   "metadata": {},
   "outputs": [
    {
     "name": "stdout",
     "output_type": "stream",
     "text": [
      "Channels:\n",
      " - conda-forge\n",
      " - defaults\n",
      " - nvidia\n",
      " - pytorch\n",
      "Platform: win-64\n",
      "Collecting package metadata (repodata.json): ...working... done\n",
      "Solving environment: ...working... done\n",
      "\n",
      "## Package Plan ##\n",
      "\n",
      "  environment location: C:\\Users\\Ali\\anaconda3\\envs\\ML\n",
      "\n",
      "  added / updated specs:\n",
      "    - pydrive\n",
      "\n",
      "\n",
      "The following packages will be downloaded:\n",
      "\n",
      "    package                    |            build\n",
      "    ---------------------------|-----------------\n",
      "    aiohttp-3.9.3              |  py311ha68e1ae_0         742 KB  conda-forge\n",
      "    aiosignal-1.3.1            |     pyhd8ed1ab_0          12 KB  conda-forge\n",
      "    cachetools-5.3.3           |     pyhd8ed1ab_0          14 KB  conda-forge\n",
      "    cryptography-42.0.5        |  py311h28e9c30_0         1.1 MB  conda-forge\n",
      "    frozenlist-1.4.1           |  py311ha68e1ae_0          53 KB  conda-forge\n",
      "    google-api-core-2.17.1     |     pyhd8ed1ab_0          82 KB  conda-forge\n",
      "    google-api-python-client-2.121.0|     pyhd8ed1ab_0         6.0 MB  conda-forge\n",
      "    google-auth-2.28.1         |     pyhca7485f_0         102 KB  conda-forge\n",
      "    google-auth-httplib2-0.2.0 |     pyhd8ed1ab_0          15 KB  conda-forge\n",
      "    googleapis-common-protos-1.62.0|     pyhd8ed1ab_0         119 KB  conda-forge\n",
      "    httplib2-0.22.0            |     pyhd8ed1ab_0          93 KB  conda-forge\n",
      "    libprotobuf-3.20.3         |       h23ce68f_0         2.2 MB\n",
      "    multidict-6.0.5            |  py311ha68e1ae_0          56 KB  conda-forge\n",
      "    oauth2client-4.1.3         |             py_0          66 KB  conda-forge\n",
      "    protobuf-3.20.3            |  py311h1ea47a8_1         288 KB  conda-forge\n",
      "    pyasn1-0.5.1               |     pyhd8ed1ab_0          62 KB  conda-forge\n",
      "    pyasn1-modules-0.3.0       |     pyhd8ed1ab_0          93 KB  conda-forge\n",
      "    pydrive-1.3.1              |             py_1          25 KB  conda-forge\n",
      "    pyopenssl-24.0.0           |     pyhd8ed1ab_0         124 KB  conda-forge\n",
      "    pyu2f-0.1.5                |     pyhd8ed1ab_0          31 KB  conda-forge\n",
      "    rsa-4.9                    |     pyhd8ed1ab_0          29 KB  conda-forge\n",
      "    uritemplate-4.1.1          |     pyhd8ed1ab_0          12 KB  conda-forge\n",
      "    yarl-1.9.4                 |  py311ha68e1ae_0         111 KB  conda-forge\n",
      "    ------------------------------------------------------------\n",
      "                                           Total:        11.4 MB\n",
      "\n",
      "The following NEW packages will be INSTALLED:\n",
      "\n",
      "  aiohttp            conda-forge/win-64::aiohttp-3.9.3-py311ha68e1ae_0 \n",
      "  aiosignal          conda-forge/noarch::aiosignal-1.3.1-pyhd8ed1ab_0 \n",
      "  cachetools         conda-forge/noarch::cachetools-5.3.3-pyhd8ed1ab_0 \n",
      "  cryptography       conda-forge/win-64::cryptography-42.0.5-py311h28e9c30_0 \n",
      "  frozenlist         conda-forge/win-64::frozenlist-1.4.1-py311ha68e1ae_0 \n",
      "  google-api-core    conda-forge/noarch::google-api-core-2.17.1-pyhd8ed1ab_0 \n",
      "  google-api-python~ conda-forge/noarch::google-api-python-client-2.121.0-pyhd8ed1ab_0 \n",
      "  google-auth        conda-forge/noarch::google-auth-2.28.1-pyhca7485f_0 \n",
      "  google-auth-httpl~ conda-forge/noarch::google-auth-httplib2-0.2.0-pyhd8ed1ab_0 \n",
      "  googleapis-common~ conda-forge/noarch::googleapis-common-protos-1.62.0-pyhd8ed1ab_0 \n",
      "  httplib2           conda-forge/noarch::httplib2-0.22.0-pyhd8ed1ab_0 \n",
      "  libprotobuf        pkgs/main/win-64::libprotobuf-3.20.3-h23ce68f_0 \n",
      "  multidict          conda-forge/win-64::multidict-6.0.5-py311ha68e1ae_0 \n",
      "  oauth2client       conda-forge/noarch::oauth2client-4.1.3-py_0 \n",
      "  protobuf           conda-forge/win-64::protobuf-3.20.3-py311h1ea47a8_1 \n",
      "  pyasn1             conda-forge/noarch::pyasn1-0.5.1-pyhd8ed1ab_0 \n",
      "  pyasn1-modules     conda-forge/noarch::pyasn1-modules-0.3.0-pyhd8ed1ab_0 \n",
      "  pydrive            conda-forge/noarch::pydrive-1.3.1-py_1 \n",
      "  pyopenssl          conda-forge/noarch::pyopenssl-24.0.0-pyhd8ed1ab_0 \n",
      "  pyu2f              conda-forge/noarch::pyu2f-0.1.5-pyhd8ed1ab_0 \n",
      "  rsa                conda-forge/noarch::rsa-4.9-pyhd8ed1ab_0 \n",
      "  uritemplate        conda-forge/noarch::uritemplate-4.1.1-pyhd8ed1ab_0 \n",
      "  yarl               conda-forge/win-64::yarl-1.9.4-py311ha68e1ae_0 \n",
      "\n",
      "\n",
      "\n",
      "Downloading and Extracting Packages: ...working... done\n",
      "Preparing transaction: ...working... done\n",
      "Verifying transaction: ...working... done\n",
      "Executing transaction: ...working... done\n"
     ]
    }
   ],
   "source": [
    "!conda install PyDrive --y"
   ]
  },
  {
   "cell_type": "code",
   "execution_count": null,
   "id": "ebce8770-b702-4fb3-befa-4b0ef8d30679",
   "metadata": {},
   "outputs": [],
   "source": []
  },
  {
   "cell_type": "code",
   "execution_count": null,
   "id": "8cf5068b-97a5-46ab-bf1c-a5340599ef9e",
   "metadata": {},
   "outputs": [],
   "source": []
  }
 ],
 "metadata": {
  "kernelspec": {
   "display_name": "Python 3 (ipykernel)",
   "language": "python",
   "name": "python3"
  },
  "language_info": {
   "codemirror_mode": {
    "name": "ipython",
    "version": 3
   },
   "file_extension": ".py",
   "mimetype": "text/x-python",
   "name": "python",
   "nbconvert_exporter": "python",
   "pygments_lexer": "ipython3",
   "version": "3.11.7"
  }
 },
 "nbformat": 4,
 "nbformat_minor": 5
}
