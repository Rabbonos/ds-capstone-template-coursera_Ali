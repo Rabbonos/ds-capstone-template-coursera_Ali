{
 "cells": [
  {
   "cell_type": "code",
   "execution_count": 51,
   "id": "3764a516-fd98-44b8-aaa3-ef62878073ac",
   "metadata": {},
   "outputs": [],
   "source": [
    "import torch\n",
    "import torchvision\n",
    "from torchvision import transforms,datasets\n",
    "import matplotlib.pyplot as plt\n",
    "import matplotlib.image as mpimg\n",
    "import os\n",
    "import numpy as np"
   ]
  },
  {
   "cell_type": "code",
   "execution_count": null,
   "id": "9490a8d0-6331-4044-8e2c-e8fd5dd8fcb2",
   "metadata": {},
   "outputs": [],
   "source": []
  },
  {
   "cell_type": "code",
   "execution_count": 52,
   "id": "c8b4a65c-66e6-4323-b968-b9bf943304dc",
   "metadata": {},
   "outputs": [],
   "source": [
    "train=r'C:\\Users\\Ali\\Desktop\\train\\train'\n",
    "\n",
    "test=r'C:\\Users\\Ali\\Desktop\\test\\test'\n"
   ]
  },
  {
   "cell_type": "code",
   "execution_count": 58,
   "id": "124e6e45-5f44-4750-9fef-3e82b857a006",
   "metadata": {},
   "outputs": [],
   "source": [
    "# for filename in (os.listdir(train)):\n",
    "#     image_path=os.path.join(train,filename)\n",
    "#     img = mpimg.imread(image_path)\n",
    "#     plt.imshow(img)\n",
    "#     break"
   ]
  },
  {
   "cell_type": "code",
   "execution_count": 56,
   "id": "4a4cd351-e830-40f8-8754-a43dbfe744db",
   "metadata": {},
   "outputs": [],
   "source": [
    "with open(image_path,'rb') as f:\n",
    "    data=f.read()\n",
    "# with open(r'C:\\Users\\Ali\\Desktop\\train\\ali.png', 'wb') as f:\n",
    "#           f.write(data)\n"
   ]
  },
  {
   "cell_type": "code",
   "execution_count": null,
   "id": "be600b53-94d0-4a53-aa66-7b15add9a400",
   "metadata": {},
   "outputs": [],
   "source": []
  },
  {
   "cell_type": "code",
   "execution_count": null,
   "id": "4fddc357-dce9-4ddd-8a76-7291a9a6e1e8",
   "metadata": {},
   "outputs": [],
   "source": []
  }
 ],
 "metadata": {
  "kernelspec": {
   "display_name": "Python 3 (ipykernel)",
   "language": "python",
   "name": "python3"
  },
  "language_info": {
   "codemirror_mode": {
    "name": "ipython",
    "version": 3
   },
   "file_extension": ".py",
   "mimetype": "text/x-python",
   "name": "python",
   "nbconvert_exporter": "python",
   "pygments_lexer": "ipython3",
   "version": "3.11.7"
  }
 },
 "nbformat": 4,
 "nbformat_minor": 5
}
