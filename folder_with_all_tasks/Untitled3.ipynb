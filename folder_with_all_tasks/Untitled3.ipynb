{
 "cells": [
  {
   "cell_type": "code",
   "execution_count": null,
   "id": "f9deadc8-3e4f-4805-8b58-a5f151e17f28",
   "metadata": {},
   "outputs": [],
   "source": [
    "import multiprocessing\n",
    "\n",
    "def square(x):\n",
    "    return x * x\n",
    "\n",
    "if __name__ == \"__main__\":\n",
    "    # Define a list of numbers\n",
    "    numbers = [1, 2, 3, 4, 5]\n",
    "\n",
    "    # Create a multiprocessing Pool with 4 processes\n",
    "    with multiprocessing.Pool(processes=4) as pool:\n",
    "        # Map the square function to the list of numbers using multiprocessing\n",
    "        results = pool.map(square, numbers)\n",
    "\n",
    "    # Print the results\n",
    "    print(\"Original numbers:\", numbers)\n",
    "    print(\"Squared numbers:\", results)"
   ]
  },
  {
   "cell_type": "code",
   "execution_count": null,
   "id": "a99eaa79-eb50-4245-a8d9-7dd1d04f34b6",
   "metadata": {},
   "outputs": [],
   "source": []
  },
  {
   "cell_type": "code",
   "execution_count": null,
   "id": "4fa94cf6-762d-45f1-a73a-44fd9c139119",
   "metadata": {},
   "outputs": [],
   "source": []
  },
  {
   "cell_type": "code",
   "execution_count": null,
   "id": "66d4fd97-6bff-4c4a-9cc5-08bbeaa60a10",
   "metadata": {},
   "outputs": [],
   "source": []
  }
 ],
 "metadata": {
  "kernelspec": {
   "display_name": "Python 3 (ipykernel)",
   "language": "python",
   "name": "python3"
  },
  "language_info": {
   "codemirror_mode": {
    "name": "ipython",
    "version": 3
   },
   "file_extension": ".py",
   "mimetype": "text/x-python",
   "name": "python",
   "nbconvert_exporter": "python",
   "pygments_lexer": "ipython3",
   "version": "3.11.7"
  }
 },
 "nbformat": 4,
 "nbformat_minor": 5
}
