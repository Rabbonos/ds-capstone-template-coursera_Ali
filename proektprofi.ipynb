{
 "cells": [
  {
   "cell_type": "code",
   "execution_count": 1,
   "id": "62444ea4-5c5c-4411-9017-58eefff8cba7",
   "metadata": {},
   "outputs": [],
   "source": [
    "import pandas as pd"
   ]
  },
  {
   "cell_type": "code",
   "execution_count": 6,
   "id": "bfebaec7-61c0-4d06-a741-217249c2c111",
   "metadata": {},
   "outputs": [
    {
     "data": {
      "text/html": [
       "<div>\n",
       "<style scoped>\n",
       "    .dataframe tbody tr th:only-of-type {\n",
       "        vertical-align: middle;\n",
       "    }\n",
       "\n",
       "    .dataframe tbody tr th {\n",
       "        vertical-align: top;\n",
       "    }\n",
       "\n",
       "    .dataframe thead th {\n",
       "        text-align: right;\n",
       "    }\n",
       "</style>\n",
       "<table border=\"1\" class=\"dataframe\">\n",
       "  <thead>\n",
       "    <tr style=\"text-align: right;\">\n",
       "      <th></th>\n",
       "      <th>date</th>\n",
       "      <th>code</th>\n",
       "      <th>product</th>\n",
       "      <th>shop</th>\n",
       "      <th>volume</th>\n",
       "    </tr>\n",
       "  </thead>\n",
       "  <tbody>\n",
       "    <tr>\n",
       "      <th>0</th>\n",
       "      <td>2023-10-01</td>\n",
       "      <td>125</td>\n",
       "      <td>345RQOY8</td>\n",
       "      <td>18</td>\n",
       "      <td>1791.000</td>\n",
       "    </tr>\n",
       "    <tr>\n",
       "      <th>1</th>\n",
       "      <td>2023-07-01</td>\n",
       "      <td>5</td>\n",
       "      <td>1OA43KI</td>\n",
       "      <td>18</td>\n",
       "      <td>1080.000</td>\n",
       "    </tr>\n",
       "    <tr>\n",
       "      <th>2</th>\n",
       "      <td>2023-10-01</td>\n",
       "      <td>135</td>\n",
       "      <td>3TD7R02J</td>\n",
       "      <td>16</td>\n",
       "      <td>7605.000</td>\n",
       "    </tr>\n",
       "    <tr>\n",
       "      <th>3</th>\n",
       "      <td>2023-10-01</td>\n",
       "      <td>37</td>\n",
       "      <td>1CA6IU4Y</td>\n",
       "      <td>16</td>\n",
       "      <td>6352.500</td>\n",
       "    </tr>\n",
       "    <tr>\n",
       "      <th>4</th>\n",
       "      <td>2023-07-01</td>\n",
       "      <td>5</td>\n",
       "      <td>HGDJ1PU</td>\n",
       "      <td>16</td>\n",
       "      <td>293243.895</td>\n",
       "    </tr>\n",
       "  </tbody>\n",
       "</table>\n",
       "</div>"
      ],
      "text/plain": [
       "        date  code   product  shop      volume\n",
       "0 2023-10-01   125  345RQOY8    18    1791.000\n",
       "1 2023-07-01     5   1OA43KI    18    1080.000\n",
       "2 2023-10-01   135  3TD7R02J    16    7605.000\n",
       "3 2023-10-01    37  1CA6IU4Y    16    6352.500\n",
       "4 2023-07-01     5   HGDJ1PU    16  293243.895"
      ]
     },
     "execution_count": 6,
     "metadata": {},
     "output_type": "execute_result"
    }
   ],
   "source": [
    "data=pd.read_excel(r'C:\\Users\\Ali\\Desktop\\data1.xlsx')\n",
    "data.head()"
   ]
  },
  {
   "cell_type": "code",
   "execution_count": 82,
   "id": "bd61bdd0-c3b4-48a8-9748-1bda374bfd7c",
   "metadata": {},
   "outputs": [],
   "source": [
    "grouped=data.sort_values(by='shop', ascending=True)\n",
    "\n",
    "\n",
    "#function to find the max volume of the same shop\n",
    "def maxi(df,number):\n",
    "     max_vol=df[df['shop']==number]['volume'].max()\n",
    "     return 'Max is:', df[df['volume']==max_vol]\n",
    "\n"
   ]
  },
  {
   "cell_type": "code",
   "execution_count": 37,
   "id": "156b013d-b5c0-4417-9172-02d7420d953a",
   "metadata": {},
   "outputs": [],
   "source": [
    "grouped[grouped['code']==179].sort_values(by='volume',ascending=False)"
   ]
  },
  {
   "cell_type": "code",
   "execution_count": 40,
   "id": "ffcef857-6bc2-448a-bf74-29ff6c3f222e",
   "metadata": {},
   "outputs": [],
   "source": [
    "#grouped.info()\n",
    "#grouped.describe()"
   ]
  },
  {
   "cell_type": "code",
   "execution_count": 78,
   "id": "503f3932-9e4a-4a98-8231-1c9df8c0f4c2",
   "metadata": {},
   "outputs": [
    {
     "data": {
      "text/html": [
       "<div>\n",
       "<style scoped>\n",
       "    .dataframe tbody tr th:only-of-type {\n",
       "        vertical-align: middle;\n",
       "    }\n",
       "\n",
       "    .dataframe tbody tr th {\n",
       "        vertical-align: top;\n",
       "    }\n",
       "\n",
       "    .dataframe thead th {\n",
       "        text-align: right;\n",
       "    }\n",
       "</style>\n",
       "<table border=\"1\" class=\"dataframe\">\n",
       "  <thead>\n",
       "    <tr style=\"text-align: right;\">\n",
       "      <th></th>\n",
       "      <th>date</th>\n",
       "      <th>code</th>\n",
       "      <th>product</th>\n",
       "      <th>shop</th>\n",
       "      <th>volume</th>\n",
       "    </tr>\n",
       "  </thead>\n",
       "  <tbody>\n",
       "    <tr>\n",
       "      <th>15464</th>\n",
       "      <td>2023-04-01 00:00:00</td>\n",
       "      <td>37</td>\n",
       "      <td>1CA6IU4Y</td>\n",
       "      <td>16</td>\n",
       "      <td>3344.205</td>\n",
       "    </tr>\n",
       "  </tbody>\n",
       "</table>\n",
       "</div>"
      ],
      "text/plain": [
       "                      date code   product shop    volume\n",
       "15464  2023-04-01 00:00:00   37  1CA6IU4Y   16  3344.205"
      ]
     },
     "execution_count": 78,
     "metadata": {},
     "output_type": "execute_result"
    }
   ],
   "source": [
    "grouped.iloc[24790].to_frame().transpose()"
   ]
  },
  {
   "cell_type": "code",
   "execution_count": 33,
   "id": "2b252f21-3a16-4388-9b0b-c626ba8f5b5f",
   "metadata": {},
   "outputs": [
    {
     "data": {
      "text/html": [
       "<div>\n",
       "<style scoped>\n",
       "    .dataframe tbody tr th:only-of-type {\n",
       "        vertical-align: middle;\n",
       "    }\n",
       "\n",
       "    .dataframe tbody tr th {\n",
       "        vertical-align: top;\n",
       "    }\n",
       "\n",
       "    .dataframe thead th {\n",
       "        text-align: right;\n",
       "    }\n",
       "</style>\n",
       "<table border=\"1\" class=\"dataframe\">\n",
       "  <thead>\n",
       "    <tr style=\"text-align: right;\">\n",
       "      <th></th>\n",
       "      <th>date</th>\n",
       "      <th>code</th>\n",
       "      <th>product</th>\n",
       "      <th>shop</th>\n",
       "      <th>volume</th>\n",
       "    </tr>\n",
       "  </thead>\n",
       "  <tbody>\n",
       "    <tr>\n",
       "      <th>8308</th>\n",
       "      <td>2023-04-01</td>\n",
       "      <td>179</td>\n",
       "      <td>63GD5DWX</td>\n",
       "      <td>13</td>\n",
       "      <td>52088461.38</td>\n",
       "    </tr>\n",
       "  </tbody>\n",
       "</table>\n",
       "</div>"
      ],
      "text/plain": [
       "           date  code   product  shop       volume\n",
       "8308 2023-04-01   179  63GD5DWX    13  52088461.38"
      ]
     },
     "execution_count": 33,
     "metadata": {},
     "output_type": "execute_result"
    }
   ],
   "source": []
  },
  {
   "cell_type": "code",
   "execution_count": null,
   "id": "9ef6a61e-c6e0-4206-b90e-3dfefaa5d7be",
   "metadata": {},
   "outputs": [],
   "source": []
  }
 ],
 "metadata": {
  "kernelspec": {
   "display_name": "Python 3 (ipykernel)",
   "language": "python",
   "name": "python3"
  },
  "language_info": {
   "codemirror_mode": {
    "name": "ipython",
    "version": 3
   },
   "file_extension": ".py",
   "mimetype": "text/x-python",
   "name": "python",
   "nbconvert_exporter": "python",
   "pygments_lexer": "ipython3",
   "version": "3.11.7"
  }
 },
 "nbformat": 4,
 "nbformat_minor": 5
}
